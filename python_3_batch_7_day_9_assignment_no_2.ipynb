{
  "nbformat": 4,
  "nbformat_minor": 0,
  "metadata": {
    "colab": {
      "name": "python 3 batch 7 day 9 assignment no 2",
      "provenance": [],
      "authorship_tag": "ABX9TyPu9tHuHMCAW/0enh/Su2oh",
      "include_colab_link": true
    },
    "kernelspec": {
      "name": "python3",
      "display_name": "Python 3"
    }
  },
  "cells": [
    {
      "cell_type": "markdown",
      "metadata": {
        "id": "view-in-github",
        "colab_type": "text"
      },
      "source": [
        "<a href=\"https://colab.research.google.com/github/pitchikakumaraveeravenkataganesh/python-3-batch7-day-9-assignment-no-2/blob/master/python_3_batch_7_day_9_assignment_no_2.ipynb\" target=\"_parent\"><img src=\"https://colab.research.google.com/assets/colab-badge.svg\" alt=\"Open In Colab\"/></a>"
      ]
    },
    {
      "cell_type": "markdown",
      "metadata": {
        "id": "2VsRInYkcl14",
        "colab_type": "text"
      },
      "source": [
        "creat armstrong number using generator in pyhton\n"
      ]
    },
    {
      "cell_type": "code",
      "metadata": {
        "id": "oXtVLtgynpbz",
        "colab_type": "code",
        "colab": {
          "base_uri": "https://localhost:8080/",
          "height": 238
        },
        "outputId": "54ad8a16-e280-46ec-af94-118809dbe59d"
      },
      "source": [
        "print(\"Enter 'x' for exit.\");\n",
        "print(\"Enter the interval (starting and ending numbers):\");\n",
        "start = input();\n",
        "if start == 'x':\n",
        "          exit();\n",
        "else:\n",
        "    end = input();\n",
        "    lower = int(start);\n",
        "    upper = int(end);\n",
        "    for num in range (lower,upper+1):\n",
        "      tot = 0;\n",
        "      temp = num;\n",
        "      while temp!=0:\n",
        "        dig = temp%10;\n",
        "        tot+=dig**3;\n",
        "        temp//=10;\n",
        "        if num == tot:\n",
        "          print(num);"
      ],
      "execution_count": 182,
      "outputs": [
        {
          "output_type": "stream",
          "text": [
            "Enter 'x' for exit.\n",
            "Enter the interval (starting and ending numbers):\n",
            "1\n",
            "1000\n",
            "1\n",
            "64\n",
            "125\n",
            "153\n",
            "216\n",
            "370\n",
            "371\n",
            "407\n",
            "729\n"
          ],
          "name": "stdout"
        }
      ]
    }
  ]
}